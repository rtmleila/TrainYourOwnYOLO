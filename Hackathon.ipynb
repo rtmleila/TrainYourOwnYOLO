{
 "cells": [
  {
   "cell_type": "markdown",
   "metadata": {},
   "source": [
    "# Setup Enviornment"
   ]
  },
  {
   "cell_type": "code",
   "execution_count": 1,
   "metadata": {},
   "outputs": [],
   "source": [
    "#!git clone https://github.com/AntonMu/TrainYourOwnYOLO.git\n",
    "\n",
    "#!pip install -r TrainYourOwnYOLO/requirements.txt\n",
    "#!pip3 uninstall -y enum34"
   ]
  },
  {
   "cell_type": "code",
   "execution_count": 5,
   "metadata": {},
   "outputs": [],
   "source": [
    "\n",
    "# clear images in the TrainYourOwnYOLO directories\n",
    "! rm  TrainYourOwnYOLO/Data/Source_Images/Training_Images/*.jpg\n",
    "! rm  TrainYourOwnYOLO/Data/Source_Images/Test_Images/*.jpg\n",
    "! rm TrainYourOwnYOLO/Data/Source_Images/Training_Images/vott-csv-export/*.jpg"
   ]
  },
  {
   "cell_type": "markdown",
   "metadata": {},
   "source": [
    "# Define Directories"
   ]
  },
  {
   "cell_type": "code",
   "execution_count": 2,
   "metadata": {},
   "outputs": [],
   "source": [
    "import os\n",
    "from pathlib import Path\n",
    "\n",
    "from shared import *\n",
    "\n",
    "\n",
    "Path('raw_labels').mkdir(parents=True, exist_ok=True)\n",
    "\n",
    "BASE = Path('TrainYourOwnYOLO')\n",
    "RAW_LABELS = Path('raw_labels')\n",
    "SOURCE_IMAGES = Path('Source_Images')\n",
    "TRAINING_IMAGES = BASE / Path('Data') / SOURCE_IMAGES / Path('Training_Images')\n",
    "TEST_IMAGES = BASE / Path('Data') / SOURCE_IMAGES / Path('Test_Images')\n",
    "\n",
    "Path(TRAINING_IMAGES / 'vott-csv-export').mkdir(parents=True, exist_ok=True)\n",
    "LAEBLS_DIR = TRAINING_IMAGES / 'vott-csv-export'\n",
    "YOLO_LABLES = LAEBLS_DIR / 'data_train.txt'\n",
    "\n",
    "\n",
    "# configure s3 resources\n",
    "s3_client = boto3.client('s3', region_name='us-east-1')\n",
    "s3_res = make_s3_resource()\n",
    "bucket = create_s3_bucket_obj(s3_res)"
   ]
  },
  {
   "cell_type": "markdown",
   "metadata": {},
   "source": [
    "# Download raw labels from S3"
   ]
  },
  {
   "cell_type": "code",
   "execution_count": 3,
   "metadata": {},
   "outputs": [],
   "source": [
    "key = 'final_labels.json'\n",
    "local_dest = RAW_LABELS / 'final_labels.json'\n",
    "s3_client.download_file(bucket.name, key, str(local_dest))\n",
    "\n",
    "# download images to machine\n",
    "image_ids = list_image_ids(bucket)\n",
    "for image_id in image_ids:\n",
    "    key = f'data/{image_id}'\n",
    "    if (TRAINING_IMAGES/image_id).is_file():\n",
    "        continue\n",
    "    s3_client.download_file(bucket.name, key, str(TRAINING_IMAGES/image_id))"
   ]
  },
  {
   "cell_type": "markdown",
   "metadata": {},
   "source": [
    "# Download and process Yolo Labels"
   ]
  },
  {
   "cell_type": "code",
   "execution_count": 4,
   "metadata": {},
   "outputs": [],
   "source": [
    "import pandas as pd\n",
    "\n",
    "\n",
    "def write_yolo_labels_file(label_json_path: str, fpath: str):\n",
    "\n",
    "    df = pd.read_json(label_json_path).T.reset_index()\n",
    "    df = df.rename(columns={'index': 'path'})\n",
    "    df['path'] =  str(TRAINING_IMAGES.absolute()) + '/' + df['path']\n",
    "    df['label'] =  0\n",
    "    df = df[['path', 'xmin', 'ymin', 'xmax', 'ymax', 'label']]\n",
    "    df.xmin = df.xmin.astype(int)\n",
    "    df.ymin = df.ymin.astype(int)\n",
    "    df.xmax = df.xmax.astype(int)\n",
    "    df.ymax = df.ymax.astype(int)\n",
    "\n",
    "    lines = []\n",
    "    for index, row in df.iterrows():\n",
    "        path, xmin, ymin, xmax, ymax, label = row\n",
    "        line = f'{path} {xmin},{ymin},{xmax},{ymax},{label}'\n",
    "        lines.append(line)\n",
    "\n",
    "    with open(fpath, 'w+') as output:\n",
    "        for line in lines:\n",
    "            output.write(line)\n",
    "            output.write(\"\\n\")\n",
    "            \n",
    "            \n",
    "# execute\n",
    "write_yolo_labels_file(label_json_path=local_dest, fpath=YOLO_LABLES)"
   ]
  },
  {
   "cell_type": "markdown",
   "metadata": {},
   "source": [
    "# Train Model"
   ]
  },
  {
   "cell_type": "code",
   "execution_count": null,
   "metadata": {},
   "outputs": [],
   "source": [
    "!python TrainYourOwnYOLO/2_Training/Download_and_Convert_YOLO_weights.py"
   ]
  },
  {
   "cell_type": "code",
   "execution_count": null,
   "metadata": {},
   "outputs": [],
   "source": [
    "!python TrainYourOwnYOLO/2_Training/Train_YOLO.py --epochs 15"
   ]
  },
  {
   "cell_type": "markdown",
   "metadata": {},
   "source": [
    "# Inference"
   ]
  },
  {
   "cell_type": "code",
   "execution_count": null,
   "metadata": {},
   "outputs": [],
   "source": [
    "!python TrainYourOwnYOLO/3_Inference/Detector.py --confidence 0.6"
   ]
  }
 ],
 "metadata": {
  "kernelspec": {
   "display_name": "Python 3",
   "language": "python",
   "name": "python3"
  },
  "language_info": {
   "codemirror_mode": {
    "name": "ipython",
    "version": 3
   },
   "file_extension": ".py",
   "mimetype": "text/x-python",
   "name": "python",
   "nbconvert_exporter": "python",
   "pygments_lexer": "ipython3",
   "version": "3.6.8"
  },
  "toc": {
   "base_numbering": 1,
   "nav_menu": {},
   "number_sections": true,
   "sideBar": true,
   "skip_h1_title": false,
   "title_cell": "Table of Contents",
   "title_sidebar": "Contents",
   "toc_cell": false,
   "toc_position": {},
   "toc_section_display": true,
   "toc_window_display": false
  },
  "varInspector": {
   "cols": {
    "lenName": 16,
    "lenType": 16,
    "lenVar": 40
   },
   "kernels_config": {
    "python": {
     "delete_cmd_postfix": "",
     "delete_cmd_prefix": "del ",
     "library": "var_list.py",
     "varRefreshCmd": "print(var_dic_list())"
    },
    "r": {
     "delete_cmd_postfix": ") ",
     "delete_cmd_prefix": "rm(",
     "library": "var_list.r",
     "varRefreshCmd": "cat(var_dic_list()) "
    }
   },
   "types_to_exclude": [
    "module",
    "function",
    "builtin_function_or_method",
    "instance",
    "_Feature"
   ],
   "window_display": false
  }
 },
 "nbformat": 4,
 "nbformat_minor": 4
}
